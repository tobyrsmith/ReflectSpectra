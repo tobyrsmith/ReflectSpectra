{
 "cells": [
  {
   "cell_type": "code",
   "execution_count": null,
   "metadata": {
    "collapsed": false
   },
   "outputs": [],
   "source": [
    "%matplotlib inline\n",
    "\n",
    "import numpy as np\n",
    "import matplotlib.pyplot as plt\n",
    "\n",
    "from astropy import units as u\n",
    "from astropy import constants as const\n",
    "\n",
    "from astropy.units import imperial\n",
    "imperial.enable()\n",
    "\n",
    "import pandas as pd"
   ]
  },
  {
   "cell_type": "code",
   "execution_count": null,
   "metadata": {
    "collapsed": false
   },
   "outputs": [],
   "source": [
    "tfont = {\n",
    "    'family' : 'DejaVu Serif',\n",
    "    'weight' : 'bold',\n",
    "    'size' : 14}\n",
    "\n",
    "plt.rc('font', **tfont)\n",
    "plt.rc(\"axes\", linewidth=3.0)\n",
    "plt.rc('axes', grid=False)\n",
    "plt.rc('axes', labelweight=\"bold\")"
   ]
  },
  {
   "cell_type": "markdown",
   "metadata": {},
   "source": [
    "## Reflectance Spectra"
   ]
  },
  {
   "cell_type": "code",
   "execution_count": null,
   "metadata": {
    "collapsed": true
   },
   "outputs": [],
   "source": [
    "led = [470,525,560,585,600,645,700,735,810,880,940]"
   ]
  },
  {
   "cell_type": "code",
   "execution_count": null,
   "metadata": {
    "collapsed": false
   },
   "outputs": [],
   "source": [
    "fig, ax = plt.subplots(1,1)\n",
    "fig.set_size_inches(11.5,8)\n",
    "\n",
    "fig.tight_layout\n",
    "\n",
    "ax.set_ylim(0,0.55)\n",
    "ax.set_xlim(430,975)\n",
    "\n",
    "ax.set_xlabel('Wavelength [nm]')\n",
    "ax.set_ylabel('Albedo')\n",
    "\n",
    "for i in led:\n",
    "    ax.axvline(i, color=\"0.5\", linestyle=\"--\")\n",
    "    \n",
    "for y in np.arange(1,10,1):\n",
    "    ax.axhline(y/10, color=\"0.5\", linestyle=\"-\")\n",
    "    \n",
    "Filter1 = [580,610]\n",
    "Filter2 = [920,960]\n",
    "    \n",
    "ax.fill_between(Filter1,Filter1, facecolor=\"0.3\", alpha = 0.2)\n",
    "ax.fill_between(Filter2,Filter2, facecolor=\"0.3\", alpha = 0.2)\n",
    "\n",
    "ax.text(585, 0.51, '1', color='0.55', fontsize=30)\n",
    "ax.text(932, 0.51, '2', color='0.55', fontsize=30)"
   ]
  },
  {
   "cell_type": "code",
   "execution_count": null,
   "metadata": {
    "collapsed": true
   },
   "outputs": [],
   "source": [
    "fig.savefig('ReflectPlot.png', dpi=200, transparent=True, bbox_inches=\"tight\")"
   ]
  },
  {
   "cell_type": "markdown",
   "metadata": {},
   "source": [
    "### Samples"
   ]
  },
  {
   "cell_type": "code",
   "execution_count": null,
   "metadata": {
    "collapsed": false
   },
   "outputs": [],
   "source": [
    "Name = ['wave','A','std']\n",
    "NA = \"-1.23e34\"\n",
    "\n",
    "SFile = \"seawater_open_ocean_sw2.27262.asc\"\n",
    "#SFile = \"lawn_grass_gds91.30123.asc\"\n",
    "\n",
    "OFile = \"olivine.asc\"\n",
    "\n",
    "TO = pd.read_table(OFile,engine='python',index_col=None,sep=\" \",skiprows=16, \n",
    "                   names=Name,skipinitialspace=True,na_values=NA)\n",
    "\n",
    "AFile = \"anorthite.asc\"\n",
    "\n",
    "TA = pd.read_table(AFile,engine='python',index_col=None,sep=\" \",skiprows=16, \n",
    "                   names=Name,skipinitialspace=True,na_values=NA)\n",
    "\n",
    "BFile = \"pyroxene.asc\"\n",
    "\n",
    "TB = pd.read_table(BFile,engine='python',index_col=None,sep=\" \",skiprows=16, \n",
    "                   names=Name,skipinitialspace=True,na_values=NA)\n",
    "\n",
    "LFile = \"leaf.asc\"\n",
    "\n",
    "TL = pd.read_table(LFile,engine='python',index_col=None,sep=\" \",skiprows=16, \n",
    "                   names=Name,skipinitialspace=True,na_values=NA)"
   ]
  },
  {
   "cell_type": "code",
   "execution_count": null,
   "metadata": {
    "collapsed": true
   },
   "outputs": [],
   "source": [
    "SampleA = [0.27,0.37,0.38,0.39,0.39,0.33,0.32,0.35,0.22,0.17,0.16]\n",
    "\n",
    "SampleB = [0.08,0.12,0.12,0.12,0.11,0.09,0.11,0.17,0.20,0.19,0.18]"
   ]
  },
  {
   "cell_type": "code",
   "execution_count": null,
   "metadata": {
    "collapsed": false
   },
   "outputs": [],
   "source": [
    "fig, ax = plt.subplots(1,1)\n",
    "fig.set_size_inches(11.5,8)\n",
    "\n",
    "fig.tight_layout\n",
    "\n",
    "ax.set_ylim(0,0.55)\n",
    "ax.set_xlim(430,975)\n",
    "\n",
    "ax.set_xlabel('Wavelength [nm]')\n",
    "ax.set_ylabel('Albedo')\n",
    "\n",
    "for i in led:\n",
    "    ax.axvline(i, color=\"0.5\", linestyle=\"--\")\n",
    "    \n",
    "for y in np.arange(1,10,1):\n",
    "    ax.axhline(y/10, color=\"0.5\", linestyle=\"-\")\n",
    "    \n",
    "Filter1 = [580,610]\n",
    "Filter2 = [920,960]\n",
    "    \n",
    "ax.fill_between(Filter1,Filter1, facecolor=\"0.3\", alpha = 0.2)\n",
    "ax.fill_between(Filter2,Filter2, facecolor=\"0.3\", alpha = 0.2)\n",
    "\n",
    "ax.text(585, 0.51, '1', color='0.55', fontsize=30)\n",
    "ax.text(932, 0.51, '2', color='0.55', fontsize=30)\n",
    "\n",
    "### Samples ###\n",
    "\n",
    "ax.text(850, 0.49, 'Leaf', color='0.20', fontsize=20)\n",
    "ax.text(850, 0.405, 'An', color='0.20', fontsize=20)\n",
    "ax.text(850, 0.060, 'Ba', color='0.20', fontsize=20)\n",
    "ax.text(525, 0.25, 'Ol', color='0.20', fontsize=20)\n",
    "\n",
    "ax.text(765, 0.31, 'Sample A', color='0.20', fontsize=15)\n",
    "ax.text(745, 0.15, 'Sample B', color='0.20', fontsize=15)\n",
    "\n",
    "ax.plot(led,SampleA,marker='None',linewidth=3,color='0.5',linestyle='-')\n",
    "ax.plot(led,SampleB,marker='None',linewidth=3,color='0.5',linestyle='--')\n",
    "\n",
    "ax.plot(TL['wave']*1000,TL['A'],marker='None',linewidth=2,color='k',linestyle='-.')\n",
    "ax.plot(TA['wave']*1000,TA['A']*0.55,marker='None',linewidth=2,color='k',linestyle='--')\n",
    "ax.plot(TB['wave']*1000,TB['A'],marker='None',linewidth=2,color='k',linestyle=':')\n",
    "ax.plot(TO['wave']*1000,TO['A']*0.8,marker='None',linewidth=2,color='k',linestyle='-');"
   ]
  },
  {
   "cell_type": "code",
   "execution_count": null,
   "metadata": {
    "collapsed": true
   },
   "outputs": [],
   "source": [
    "fig.savefig('ReflectPlot_Knowns.png', dpi=200, transparent=True, bbox_inches=\"tight\")"
   ]
  },
  {
   "cell_type": "markdown",
   "metadata": {},
   "source": [
    "## CraterDensity N10 Plot"
   ]
  },
  {
   "cell_type": "code",
   "execution_count": null,
   "metadata": {
    "collapsed": true
   },
   "outputs": [],
   "source": [
    "# a = amplitude\n",
    "# b = period\n",
    "# c = offset\n",
    "\n",
    "def ringo(x,a,b,c):\n",
    "    return a * (np.exp(b*x) - 1.0) + (c * x)"
   ]
  },
  {
   "cell_type": "code",
   "execution_count": null,
   "metadata": {
    "collapsed": true
   },
   "outputs": [],
   "source": [
    "def log_10_product(x, pos):\n",
    "    if (x < 1.0):\n",
    "      return '%3.1f' % (x)\n",
    "    else:\n",
    "      return '%i' % (x)"
   ]
  },
  {
   "cell_type": "code",
   "execution_count": null,
   "metadata": {
    "collapsed": false
   },
   "outputs": [],
   "source": [
    "A = 7.00875281e-15\n",
    "B = 9.58714635\n",
    "C = 2.57287271\n",
    "\n",
    "Z = np.linspace(0,5.0,1000)\n",
    "\n",
    "fig, ax = plt.subplots()\n",
    "fig.set_size_inches(11,8.5)\n",
    "\n",
    "fig.tight_layout\n",
    "\n",
    "ax = plt.subplot(111, axisbelow=True)\n",
    "\n",
    "ax.set_yscale('log')\n",
    "#ax.set_xlim(4.5,0)\n",
    "#ax.set_ylim(0.1,1000)\n",
    "ax.set_xlim(4.2,1.0)\n",
    "ax.set_ylim(1,1000)\n",
    "\n",
    "ax.xaxis.set_tick_params(width=2,length=6)\n",
    "ax.yaxis.set_tick_params('minor',width=2,length=8)\n",
    "ax.yaxis.set_tick_params('major',width=2,length=6)\n",
    "\n",
    "formatter = plt.FuncFormatter(log_10_product)\n",
    "ax.yaxis.set_major_formatter(formatter)\n",
    "\n",
    "ax.set_xlabel('Age (billion years)', fontdict=tfont)\n",
    "ax.set_ylabel('N(10)', fontdict=tfont)\n",
    "\n",
    "ax.grid(b=True, which='major', color='k', linewidth=1, linestyle='-')\n",
    "\n",
    "ax.plot(Z, ringo(Z,A,B,C),color='0.50',linestyle='-',linewidth=4);"
   ]
  },
  {
   "cell_type": "code",
   "execution_count": null,
   "metadata": {
    "collapsed": true
   },
   "outputs": [],
   "source": [
    "fig.savefig('N10Plot.png', dpi=200, transparent=True, bbox_inches=\"tight\")"
   ]
  },
  {
   "cell_type": "markdown",
   "metadata": {
    "collapsed": true
   },
   "source": [
    "## Maxwell"
   ]
  },
  {
   "cell_type": "markdown",
   "metadata": {},
   "source": [
    "$$ \\large a=\\sqrt{kT/m} $$"
   ]
  },
  {
   "cell_type": "markdown",
   "metadata": {},
   "source": [
    "$$\\large PDF = \\sqrt{\\frac{2}{\\pi}} \\frac{x^2 e^{-x^2/\\left(2a^2\\right)}}{a^3}$$"
   ]
  },
  {
   "cell_type": "code",
   "execution_count": null,
   "metadata": {
    "collapsed": true
   },
   "outputs": [],
   "source": [
    "def Maxwell(T):\n",
    "    \n",
    "    v = np.arange(0,2000,1) * (u.m / u.s)\n",
    "    m = 32 * const.m_p\n",
    "    \n",
    "    a = np.sqrt(const.k_B * T / m)\n",
    "    \n",
    "    f1 = np.sqrt(2 / np.pi) * ( v**2 / a**3)\n",
    "    f2 = np.exp(-(v**2) / (2 * a**2))\n",
    "  \n",
    "    return f1 * f2 * v\n",
    "    "
   ]
  },
  {
   "cell_type": "code",
   "execution_count": null,
   "metadata": {
    "collapsed": false
   },
   "outputs": [],
   "source": [
    "fig, ax = plt.subplots(1,1)\n",
    "fig.set_size_inches(11.5,8)\n",
    "\n",
    "fig.tight_layout\n",
    "\n",
    "#ax.set_ylim(0,1.0)\n",
    "ax.set_xlim(0,1500)\n",
    "\n",
    "ax.set_xlabel('Speed of Molecules [m/s]')\n",
    "ax.set_ylabel('Number of Molecules')\n",
    "\n",
    "T1 = Maxwell(T = 173 * u.K).value # -100C\n",
    "T2 = Maxwell(T = 293 * u.K).value #   20C\n",
    "T3 = Maxwell(T = 773 * u.K).value #  500C\n",
    "\n",
    "ax.plot(v, T1*2000, color='0.0', linewidth=5, linestyle= \"-\", label = \"-100 C\")\n",
    "ax.plot(v, T2*1500, color='0.5', linewidth=5, linestyle= \"--\", label = \"  20 C\")\n",
    "ax.plot(v, T3*1000, color='0.75', linewidth=5, linestyle= \"-\", label = \" 500 C\")\n",
    "\n",
    "ax.legend(loc=0,shadow=True)"
   ]
  },
  {
   "cell_type": "code",
   "execution_count": null,
   "metadata": {
    "collapsed": true
   },
   "outputs": [],
   "source": [
    "fig.savefig('Maxwell.png', dpi=200, transparent=True, bbox_inches=\"tight\")"
   ]
  },
  {
   "cell_type": "markdown",
   "metadata": {
    "collapsed": true
   },
   "source": [
    "## Maxwell 2"
   ]
  },
  {
   "cell_type": "markdown",
   "metadata": {},
   "source": [
    " $$\\large f(v) = \\sqrt{\\left(\\frac{m}{2 \\pi kT}\\right)^3}\\, 4\\pi v^2 e^{- \\frac{mv^2}{2kT}}$$"
   ]
  },
  {
   "cell_type": "code",
   "execution_count": null,
   "metadata": {
    "collapsed": true
   },
   "outputs": [],
   "source": [
    "def MaxwellF(T):\n",
    "    \n",
    "    v = np.arange(0,2000,1) * (u.m / u.s)\n",
    "    m = 32 * const.m_p\n",
    "    \n",
    "    a = -1 * (m * v**2) / (2 * const.k_B * T)\n",
    "    \n",
    "    f1 = np.sqrt( ( m / ( 2 * np.pi * const.k_B * T)) ** 3 )\n",
    "    f2 = 4 * np.pi * v ** 2\n",
    "    f3 = np.exp(a)\n",
    "  \n",
    "    return f1 * f2 * f3 * v"
   ]
  },
  {
   "cell_type": "code",
   "execution_count": null,
   "metadata": {
    "collapsed": false
   },
   "outputs": [],
   "source": [
    "v = np.arange(0,2000,1) * (u.m / u.s)\n",
    "m = 32 * const.m_p\n",
    "T = 173 * u.K\n",
    "\n",
    "f1 = np.sqrt( ( m / ( 2 * np.pi * const.k_B * T)) ** 3 )\n",
    "f2 = 4 * np.pi * v ** 2\n",
    "a = -1 * (m * v**2) / (2 * const.k_B * T)\n",
    "f3 = np.exp(a)\n",
    "\n",
    "#T1 = MaxwellF(T = 173 * u.K).value # -100C\n",
    "\n",
    "(f1 * f2 * f3 * v).decompose()"
   ]
  },
  {
   "cell_type": "code",
   "execution_count": null,
   "metadata": {
    "collapsed": false
   },
   "outputs": [],
   "source": [
    "fig, ax = plt.subplots(1,1)\n",
    "fig.set_size_inches(11.5,8)\n",
    "\n",
    "fig.tight_layout\n",
    "\n",
    "#ax.set_ylim(0,1.0)\n",
    "ax.set_xlim(0,1500)\n",
    "\n",
    "ax.set_xlabel('Speed of Molecules [m/s]')\n",
    "ax.set_ylabel('Number of Molecules')\n",
    "\n",
    "v = np.arange(0,2000,1) * (u.m / u.s)\n",
    "\n",
    "T1 = MaxwellF(T = 173 * u.K).value # -100C\n",
    "T2 = MaxwellF(T = 293 * u.K).value #   20C\n",
    "T3 = MaxwellF(T = 773 * u.K).value #  500C\n",
    "\n",
    "ax.plot(v, T1*2000, color='0.0', linewidth=5, linestyle= \"-\", label = \"-100 C\")\n",
    "ax.plot(v, T2*1500, color='0.5', linewidth=5, linestyle= \"--\", label = \"  20 C\")\n",
    "ax.plot(v, T3*1000, color='0.75', linewidth=5, linestyle= \"-\", label = \" 500 C\")\n",
    "\n",
    "ax.legend(loc=0,shadow=True)"
   ]
  },
  {
   "cell_type": "markdown",
   "metadata": {
    "collapsed": true
   },
   "source": [
    "## Transits"
   ]
  },
  {
   "cell_type": "code",
   "execution_count": null,
   "metadata": {
    "collapsed": false
   },
   "outputs": [],
   "source": [
    "t_days = np.arange(0,30,0.05)"
   ]
  },
  {
   "cell_type": "code",
   "execution_count": null,
   "metadata": {
    "collapsed": false
   },
   "outputs": [],
   "source": [
    "t_obs = np.copy(t_days)"
   ]
  },
  {
   "cell_type": "code",
   "execution_count": null,
   "metadata": {
    "collapsed": true
   },
   "outputs": [],
   "source": [
    "np.random.seed(seed=40)\n",
    "s = np.random.uniform(0,1,t_days.size)"
   ]
  },
  {
   "cell_type": "code",
   "execution_count": null,
   "metadata": {
    "collapsed": false
   },
   "outputs": [],
   "source": [
    "maskR = np.where(s > 0.25)\n",
    "\n",
    "t_obs[maskR] = 0"
   ]
  },
  {
   "cell_type": "code",
   "execution_count": null,
   "metadata": {
    "collapsed": false
   },
   "outputs": [],
   "source": [
    "#t_obs"
   ]
  },
  {
   "cell_type": "code",
   "execution_count": null,
   "metadata": {
    "collapsed": false
   },
   "outputs": [],
   "source": [
    "# Make square waves\n",
    "\n",
    "from scipy import signal\n",
    "\n",
    "P1 = 3.3\n",
    "t1 = t_obs * (2 * np.pi) / P1\n",
    "\n",
    "P2 = 12.4\n",
    "t2 = t_obs * (2 * np.pi) / P2\n",
    "\n",
    "y1 = -1 * signal.square(t1, duty = 0.10)\n",
    "y2 = -1 * signal.square(t2, duty = 0.05)"
   ]
  },
  {
   "cell_type": "code",
   "execution_count": null,
   "metadata": {
    "collapsed": true
   },
   "outputs": [],
   "source": [
    "# Adjust magnitude\n",
    "\n",
    "mask1 = np.where(y1 < 0)\n",
    "mask2 = np.where(y2 < 0)\n",
    "\n",
    "y1[mask1] = 0.9992\n",
    "y2[mask2] = 0.99985"
   ]
  },
  {
   "cell_type": "code",
   "execution_count": null,
   "metadata": {
    "collapsed": false
   },
   "outputs": [],
   "source": [
    "# Add noise\n",
    "\n",
    "noise = np.random.normal(0,0.00002,t_obs.size)\n",
    "\n",
    "y1 += noise\n",
    "y2 += noise"
   ]
  },
  {
   "cell_type": "code",
   "execution_count": null,
   "metadata": {
    "collapsed": false
   },
   "outputs": [],
   "source": [
    "from matplotlib.ticker import AutoMinorLocator\n",
    "\n",
    "fig, ax = plt.subplots(2,1,sharex=True)\n",
    "fig.set_size_inches(11.5,8)\n",
    "\n",
    "minorLocator = AutoMinorLocator()\n",
    "ax[0].xaxis.set_minor_locator(minorLocator)\n",
    "ax[1].xaxis.set_minor_locator(minorLocator)\n",
    "\n",
    "ax[0].tick_params(which='both', width=2)\n",
    "ax[0].tick_params(which='major', length=10)\n",
    "ax[0].tick_params(which='minor', length=5, color='k')\n",
    "\n",
    "ax[1].tick_params(which='both', width=2)\n",
    "ax[1].tick_params(which='major', length=10)\n",
    "ax[1].tick_params(which='minor', length=5, color='k')\n",
    "\n",
    "fig.tight_layout\n",
    "plt.subplots_adjust(hspace=0.05)\n",
    "\n",
    "ax[0].set_ylim(99.9,100.01)\n",
    "ax[1].set_ylim(99.9,100.01)\n",
    "ax[0].set_xlim(0.1,30)\n",
    "\n",
    "ax[1].set_xlabel('Time [days]')\n",
    "ax[0].set_ylabel('Brightness')\n",
    "ax[1].set_ylabel('Brightness')\n",
    "\n",
    "ax[0].plot(t_obs, y1*100, ls='None', marker='.', color='k')\n",
    "ax[1].plot(t_obs, y2*100, ls='None', marker='.', color='k')\n",
    "\n",
    "ax[0].text(1.5, 99.95, 'A', color='k', fontsize=36)\n",
    "ax[1].text(1.5, 99.95, 'B', color='k', fontsize=36)"
   ]
  },
  {
   "cell_type": "code",
   "execution_count": null,
   "metadata": {
    "collapsed": true
   },
   "outputs": [],
   "source": [
    "fig.savefig('Transit.png', dpi=200, transparent=True, bbox_inches=\"tight\")"
   ]
  },
  {
   "cell_type": "code",
   "execution_count": null,
   "metadata": {
    "collapsed": true
   },
   "outputs": [],
   "source": []
  }
 ],
 "metadata": {
  "kernelspec": {
   "display_name": "Python 3",
   "language": "python",
   "name": "python3"
  },
  "language_info": {
   "codemirror_mode": {
    "name": "ipython",
    "version": 3
   },
   "file_extension": ".py",
   "mimetype": "text/x-python",
   "name": "python",
   "nbconvert_exporter": "python",
   "pygments_lexer": "ipython3",
   "version": "3.5.1"
  }
 },
 "nbformat": 4,
 "nbformat_minor": 0
}
