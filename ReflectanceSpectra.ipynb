{
 "cells": [
  {
   "cell_type": "code",
   "execution_count": null,
   "metadata": {
    "collapsed": true
   },
   "outputs": [],
   "source": [
    "%matplotlib inline\n",
    "\n",
    "import numpy as np\n",
    "import pandas as pd\n",
    "import matplotlib.pyplot as plt\n",
    "import scipy.stats as sp"
   ]
  },
  {
   "cell_type": "code",
   "execution_count": null,
   "metadata": {
    "collapsed": true
   },
   "outputs": [],
   "source": [
    "tfont = {\n",
    "    'family' : 'DejaVu Serif',\n",
    "    'weight' : 'bold',\n",
    "    'size' : 14}\n",
    "\n",
    "plt.rc('font', **tfont)\n",
    "plt.rc(\"axes\", linewidth=3.0)\n",
    "plt.rc('axes', grid=False)\n",
    "plt.rc('axes', labelweight=\"bold\")"
   ]
  },
  {
   "cell_type": "code",
   "execution_count": null,
   "metadata": {
    "collapsed": true
   },
   "outputs": [],
   "source": [
    "Name = ['wavelength','reflectance','std']\n",
    "NA = \"-1.23e34\"\n",
    "\n",
    "SFile = \"melting_snow_1-16.27137.asc\"\n",
    "#SFile = \"lawn_grass_gds91.30123.asc\"\n",
    "\n",
    "AFile = \"anorthite.asc\"\n",
    "\n",
    "TS = pd.read_table(SFile,engine='python',index_col=None,sep=\" \",skiprows=16,\n",
    "                  names=Name,skipinitialspace=True,na_values=NA)\n",
    "\n",
    "TA = pd.read_table(AFile,engine='python',index_col=None,sep=\" \",skiprows=16,\n",
    "                  names=Name,skipinitialspace=True,na_values=NA)"
   ]
  },
  {
   "cell_type": "code",
   "execution_count": null,
   "metadata": {
    "collapsed": true
   },
   "outputs": [],
   "source": [
    "TA[0:3]"
   ]
  },
  {
   "cell_type": "code",
   "execution_count": null,
   "metadata": {
    "collapsed": true
   },
   "outputs": [],
   "source": [
    "fig, ax = plt.subplots(1,1)\n",
    "fig.set_size_inches(16,9)\n",
    "\n",
    "#ax.grid(b=True, which='major')\n",
    "\n",
    "ax.set_ylim(0,1.0)\n",
    "ax.set_xlim(380,2000)\n",
    "\n",
    "ax.spines['top'].set_visible(False)\n",
    "ax.spines['right'].set_visible(False)\n",
    "\n",
    "ax.get_xaxis().tick_bottom()\n",
    "ax.get_yaxis().tick_left()\n",
    "\n",
    "ax.set_xlabel('Wavelength [nm]')\n",
    "ax.set_ylabel('Albedo')\n",
    "\n",
    "ax.plot(TS['wavelength']*1000,TS['reflectance']*1.19,marker='None',linewidth=4,color='b',linestyle='-')\n",
    "ax.plot(TA['wavelength']*1000,TA['reflectance'],marker='None',linewidth=4,color='r',linestyle='-');"
   ]
  },
  {
   "cell_type": "code",
   "execution_count": null,
   "metadata": {
    "collapsed": true
   },
   "outputs": [],
   "source": [
    "#fig.savefig('Reflect_SnowAn.png', dpi=200, bbox_inches='tight',pad_inches=0.05)"
   ]
  },
  {
   "cell_type": "code",
   "execution_count": null,
   "metadata": {
    "collapsed": true
   },
   "outputs": [],
   "source": [
    "led = [470,525,560,585,600,645,700,735,810,880,940]"
   ]
  },
  {
   "cell_type": "code",
   "execution_count": null,
   "metadata": {
    "collapsed": true
   },
   "outputs": [],
   "source": [
    "fig, ax = plt.subplots(1,1)\n",
    "fig.set_size_inches(11.5,8)\n",
    "\n",
    "fig.tight_layout\n",
    "\n",
    "ax.set_ylim(0,0.55)\n",
    "ax.set_xlim(430,975)\n",
    "\n",
    "ax.set_xlabel('Wavelength [nm]')\n",
    "ax.set_ylabel('Albedo')\n",
    "\n",
    "for i in led:\n",
    "    ax.axvline(i, color=\"0.5\", linestyle=\"--\")\n",
    "    \n",
    "for y in np.arange(1,10,1):\n",
    "    ax.axhline(y/10, color=\"0.5\", linestyle=\"-\")\n",
    "    \n",
    "Filter1 = [580,610]\n",
    "Filter2 = [920,960]\n",
    "    \n",
    "ax.fill_between(Filter1,Filter1, facecolor=\"0.3\", alpha = 0.2)\n",
    "ax.fill_between(Filter2,Filter2, facecolor=\"0.3\", alpha = 0.2)\n",
    "\n",
    "ax.text(585, 0.51, '1', color='0.55', fontsize=30)\n",
    "ax.text(932, 0.51, '2', color='0.55', fontsize=30)\n",
    "\n",
    "### Samples ###\n",
    "\n",
    "\n",
    "ax.plot(T['wavelength']*1000,T['reflectance'],marker='None',linewidth=2,color='k',linestyle='-');\n"
   ]
  },
  {
   "cell_type": "code",
   "execution_count": null,
   "metadata": {
    "collapsed": true
   },
   "outputs": [],
   "source": [
    "#fig.savefig('AstHist_Period.png', dpi=300, bbox_inches='tight',pad_inches=0.05)"
   ]
  },
  {
   "cell_type": "code",
   "execution_count": null,
   "metadata": {
    "collapsed": true
   },
   "outputs": [],
   "source": []
  }
 ],
 "metadata": {
  "kernelspec": {
   "display_name": "Python 3",
   "language": "python",
   "name": "python3"
  },
  "language_info": {
   "codemirror_mode": {
    "name": "ipython",
    "version": 3
   },
   "file_extension": ".py",
   "mimetype": "text/x-python",
   "name": "python",
   "nbconvert_exporter": "python",
   "pygments_lexer": "ipython3",
   "version": "3.6.1"
  }
 },
 "nbformat": 4,
 "nbformat_minor": 1
}
